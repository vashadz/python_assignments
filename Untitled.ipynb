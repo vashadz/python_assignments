{
 "cells": [
  {
   "cell_type": "markdown",
   "id": "8146d576",
   "metadata": {},
   "source": [
    "# Python"
   ]
  },
  {
   "cell_type": "code",
   "execution_count": 31,
   "id": "09c76e2a",
   "metadata": {},
   "outputs": [],
   "source": [
    "list= [\"hello word\"]"
   ]
  },
  {
   "cell_type": "code",
   "execution_count": 37,
   "id": "6825b80d",
   "metadata": {},
   "outputs": [
    {
     "name": "stdout",
     "output_type": "stream",
     "text": [
      "['2020', 'hello word']\n"
     ]
    }
   ],
   "source": [
    "print(list)"
   ]
  },
  {
   "cell_type": "code",
   "execution_count": 36,
   "id": "3284e2ae",
   "metadata": {},
   "outputs": [],
   "source": [
    "list.sort()"
   ]
  },
  {
   "cell_type": "code",
   "execution_count": 18,
   "id": "46655e1f",
   "metadata": {},
   "outputs": [],
   "source": [
    "day=\"monday\""
   ]
  },
  {
   "cell_type": "code",
   "execution_count": 23,
   "id": "98e5d899",
   "metadata": {},
   "outputs": [
    {
     "ename": "TypeError",
     "evalue": "'str' object is not callable",
     "output_type": "error",
     "traceback": [
      "\u001b[0;31m---------------------------------------------------------------------------\u001b[0m",
      "\u001b[0;31mTypeError\u001b[0m                                 Traceback (most recent call last)",
      "Input \u001b[0;32mIn [23]\u001b[0m, in \u001b[0;36m<cell line: 1>\u001b[0;34m()\u001b[0m\n\u001b[0;32m----> 1\u001b[0m \u001b[38;5;28mprint\u001b[39m(\u001b[38;5;28;43mlist\u001b[39;49m\u001b[43m(\u001b[49m\u001b[38;5;124;43mf\u001b[39;49m\u001b[38;5;124;43m\"\u001b[39;49m\u001b[38;5;124;43mtoday is \u001b[39;49m\u001b[38;5;132;43;01m{\u001b[39;49;00m\u001b[43mday\u001b[49m\u001b[38;5;132;43;01m}\u001b[39;49;00m\u001b[38;5;124;43m)\u001b[39;49m\u001b[38;5;124;43m\"\u001b[39;49m\u001b[43m)\u001b[49m)\n",
      "\u001b[0;31mTypeError\u001b[0m: 'str' object is not callable"
     ]
    }
   ],
   "source": [
    "print(list(f\"today is {day})\"))"
   ]
  },
  {
   "cell_type": "code",
   "execution_count": 39,
   "id": "0c78d681",
   "metadata": {},
   "outputs": [],
   "source": [
    "x=1\n",
    "loo = (0,\"one\", 'three', x)"
   ]
  },
  {
   "cell_type": "code",
   "execution_count": 40,
   "id": "01ce3271",
   "metadata": {},
   "outputs": [
    {
     "data": {
      "text/plain": [
       "4"
      ]
     },
     "execution_count": 40,
     "metadata": {},
     "output_type": "execute_result"
    }
   ],
   "source": [
    "len(loo)"
   ]
  },
  {
   "cell_type": "code",
   "execution_count": 44,
   "id": "15ea8c3c",
   "metadata": {},
   "outputs": [
    {
     "name": "stdout",
     "output_type": "stream",
     "text": [
      "one\n"
     ]
    }
   ],
   "source": [
    "print(loo[1])"
   ]
  },
  {
   "cell_type": "code",
   "execution_count": null,
   "id": "fefe6859",
   "metadata": {},
   "outputs": [],
   "source": []
  }
 ],
 "metadata": {
  "kernelspec": {
   "display_name": "Python 3 (ipykernel)",
   "language": "python",
   "name": "python3"
  },
  "language_info": {
   "codemirror_mode": {
    "name": "ipython",
    "version": 3
   },
   "file_extension": ".py",
   "mimetype": "text/x-python",
   "name": "python",
   "nbconvert_exporter": "python",
   "pygments_lexer": "ipython3",
   "version": "3.9.12"
  }
 },
 "nbformat": 4,
 "nbformat_minor": 5
}
