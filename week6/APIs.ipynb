{
 "cells": [
  {
   "cell_type": "code",
   "execution_count": null,
   "id": "ba6410d5",
   "metadata": {},
   "outputs": [],
   "source": [
    "import requests\n",
    "import numpy as np\n",
    "import cv2\n",
    "import matplotlib.pyplot as plt\n",
    "from google.colab.patches import cv2_imshow\n",
    "\n",
    "# Replace YOUR_API_KEY with your actual API key\n",
    "api_key = 'my_key'\n",
    "\n",
    "# Set up the API endpoint URL to get a list of paintings\n",
    "url = f'https://www.rijksmuseum.nl/api/nl/collection?key={api_key}&imgonly=True&type=schilderij'\n",
    "\n",
    "# Make the API request\n",
    "response = requests.get(url)\n",
    "\n",
    "# Extract the data from the response\n",
    "data = response.json()['artObjects']\n",
    "\n",
    "# Define a function to plot a scatter plot of the pixel values and hues\n",
    "def plot_pixel_hues(img):\n",
    "    # Convert the image from BGR to HSV color space\n",
    "    hsv_img = cv2.cvtColor(img, cv2.COLOR_BGR2HSV)\n",
    "    # Get the pixel values and hues\n",
    "    pixels = hsv_img.reshape((-1, 3))\n",
    "    hues = pixels[:, 0]\n",
    "    # Plot the scatter plot\n",
    "    fig, ax = plt.subplots()\n",
    "    ax.scatter(range(len(hues)), hues, c=pixels/255.0, alpha=0.3, s=1)\n",
    "    ax.set_xlabel('Pixel index')\n",
    "    ax.set_ylabel('Hue')\n",
    "    plt.show()\n",
    "\n",
    "# Download the images and visualize their pixel values and hues\n",
    "for artwork in data:\n",
    "    # Get the image URL\n",
    "    image_url = artwork['webImage']['url']\n",
    "    # Download the image and convert it to a numpy array\n",
    "    img_arr = np.asarray(bytearray(requests.get(image_url).content), dtype=np.uint8)\n",
    "    # Convert the numpy array to an OpenCV image\n",
    "    img = cv2.imdecode(img_arr, cv2.IMREAD_COLOR)\n",
    "    # Resize the image to 400x400\n",
    "    img = cv2.resize(img, (400, 400))\n",
    "    # Display the image\n",
    "    cv2_imshow(img)\n",
    "    cv2.waitKey(0)\n",
    "    # Plot the pixel values and hues\n",
    "    plot_pixel_hues(img)\n",
    "\n",
    "cv2.destroyAllWindows()"
   ]
  },
  {
   "cell_type": "code",
   "execution_count": null,
   "id": "577d2fc4",
   "metadata": {},
   "outputs": [],
   "source": []
  }
 ],
 "metadata": {
  "kernelspec": {
   "display_name": "Python 3 (ipykernel)",
   "language": "python",
   "name": "python3"
  },
  "language_info": {
   "codemirror_mode": {
    "name": "ipython",
    "version": 3
   },
   "file_extension": ".py",
   "mimetype": "text/x-python",
   "name": "python",
   "nbconvert_exporter": "python",
   "pygments_lexer": "ipython3",
   "version": "3.9.12"
  }
 },
 "nbformat": 4,
 "nbformat_minor": 5
}
