{
 "cells": [
  {
   "cell_type": "code",
   "execution_count": 3,
   "metadata": {},
   "outputs": [
    {
     "ename": "TypeError",
     "evalue": "unsupported operand type(s) for +: 'int' and 'str'",
     "output_type": "error",
     "traceback": [
      "\u001b[0;31m---------------------------------------------------------------------------\u001b[0m",
      "\u001b[0;31mTypeError\u001b[0m                                 Traceback (most recent call last)",
      "Input \u001b[0;32mIn [3]\u001b[0m, in \u001b[0;36m<cell line: 7>\u001b[0;34m()\u001b[0m\n\u001b[1;32m      4\u001b[0m var2 \u001b[38;5;241m=\u001b[39m \u001b[38;5;241m2\u001b[39m\n\u001b[1;32m      5\u001b[0m var3 \u001b[38;5;241m=\u001b[39m \u001b[38;5;124m\"\u001b[39m\u001b[38;5;124m3\u001b[39m\u001b[38;5;124m\"\u001b[39m\n\u001b[0;32m----> 7\u001b[0m \u001b[38;5;28mprint\u001b[39m(\u001b[43mvar1\u001b[49m\u001b[43m \u001b[49m\u001b[38;5;241;43m+\u001b[39;49m\u001b[43m \u001b[49m\u001b[43mvar2\u001b[49m\u001b[43m \u001b[49m\u001b[38;5;241;43m+\u001b[39;49m\u001b[43m \u001b[49m\u001b[43mvar3\u001b[49m)\n",
      "\u001b[0;31mTypeError\u001b[0m: unsupported operand type(s) for +: 'int' and 'str'"
     ]
    }
   ],
   "source": [
    "# 1) What is the output of the following code and why? \n",
    "\n",
    "#var1 = 1\n",
    "#var2 = 2\n",
    "#var3 = \"3\"\n",
    "\n",
    "#print(var1 + var2 + var3)\n",
    "\n",
    "#(d)\n",
    "\n",
    "# a) 6 \n",
    "# b) 33 \n",
    "# c) 3 + 3 \n",
    "# d) Error "
   ]
  },
  {
   "cell_type": "code",
   "execution_count": 4,
   "metadata": {},
   "outputs": [
    {
     "name": "stdout",
     "output_type": "stream",
     "text": [
      "yn\n"
     ]
    }
   ],
   "source": [
    "# 2) What is the output of the following code? \n",
    "\n",
    "#str = \"pynative\"\n",
    "\n",
    "#print (str[1:3])\n",
    "#(b)\n",
    "\n",
    "# a) py\n",
    "# b) yn\n",
    "# c) pyn\n",
    "# d) yna"
   ]
  },
  {
   "cell_type": "code",
   "execution_count": 5,
   "metadata": {},
   "outputs": [
    {
     "name": "stdout",
     "output_type": "stream",
     "text": [
      "maJ\n"
     ]
    }
   ],
   "source": [
    "# 3) What is the output of the following code? \n",
    "\n",
    "#var= \"James Bond\"\n",
    "#print(var[2::-1])\n",
    "#(c)\n",
    "\n",
    "# a) Jam\n",
    "# b) dno\n",
    "# c) maJ\n",
    "# d) dnoB semaJ"
   ]
  },
  {
   "cell_type": "code",
   "execution_count": 6,
   "metadata": {},
   "outputs": [
    {
     "name": "stdout",
     "output_type": "stream",
     "text": [
      "JamesJamesJamesJamesJamesJames\n"
     ]
    }
   ],
   "source": [
    "# 4) What is the output of the following code? \n",
    "\n",
    "#var = \"James\" * 2  * 3\n",
    "#print(var)\n",
    "#(a)\n",
    "# a) JamesJamesJamesJamesJamesJames\n",
    "# b) JamesJamesJamesJamesJames\n",
    "# c) Error: invalid syntax"
   ]
  },
  {
   "cell_type": "code",
   "execution_count": 7,
   "metadata": {},
   "outputs": [
    {
     "name": "stdout",
     "output_type": "stream",
     "text": [
      "['apple', 'bananas', 'cantelopes']\n"
     ]
    }
   ],
   "source": [
    "# 5) Get rid of the non fruit item: \n",
    "\n",
    "#sweets = ['apple', 'bananas', 'cantelopes', 'donut']\n",
    "#sweets.pop(3)\n",
    "#print(sweets)"
   ]
  },
  {
   "cell_type": "code",
   "execution_count": 16,
   "metadata": {},
   "outputs": [
    {
     "data": {
      "text/plain": [
       "'santa'"
      ]
     },
     "execution_count": 16,
     "metadata": {},
     "output_type": "execute_result"
    }
   ],
   "source": [
    "# 6) Find \"santa\" in the variable \"house\" \n",
    "\n",
    "\n",
    "#room1=['gabe', 'greg']\n",
    "#room2=['michelle','santa','stacey']\n",
    "#room3=['adam','sam', 'melissa']\n",
    "#house= [room2, room1, room3] \n",
    "\n",
    "#house[0][1]\n"
   ]
  },
  {
   "cell_type": "code",
   "execution_count": 17,
   "metadata": {},
   "outputs": [
    {
     "ename": "IndentationError",
     "evalue": "unexpected indent (1135361229.py, line 5)",
     "output_type": "error",
     "traceback": [
      "\u001b[0;36m  Input \u001b[0;32mIn [17]\u001b[0;36m\u001b[0m\n\u001b[0;31m    False\u001b[0m\n\u001b[0m    ^\u001b[0m\n\u001b[0;31mIndentationError\u001b[0m\u001b[0;31m:\u001b[0m unexpected indent\n"
     ]
    }
   ],
   "source": [
    "# 7) A dictionary is the best way to store a sequence of events like a recipe.\n",
    "\n",
    "# True or false? \n",
    " \n",
    "#False\n"
   ]
  },
  {
   "cell_type": "code",
   "execution_count": 18,
   "metadata": {},
   "outputs": [
    {
     "data": {
      "text/plain": [
       "{'bob',\n",
       " 'chris',\n",
       " 'christina',\n",
       " 'jennifer',\n",
       " 'jessica',\n",
       " 'mary',\n",
       " 'michelle',\n",
       " 'pierre',\n",
       " 'tina'}"
      ]
     },
     "execution_count": 18,
     "metadata": {},
     "output_type": "execute_result"
    }
   ],
   "source": [
    "# 8) Remove all dupes \n",
    "#names = ['mary', 'bob', 'jessica', 'pierre', 'bob', 'jennifer', 'chris', \n",
    "        #  'christina', 'tina', 'mary', 'tina', 'bob', 'michelle','jennifer']\n",
    "#set(names)"
   ]
  },
  {
   "cell_type": "code",
   "execution_count": null,
   "metadata": {},
   "outputs": [],
   "source": [
    "# 9) What's the difference between = and == ? \n",
    "#== is for comparing values, = is for assigning values"
   ]
  },
  {
   "cell_type": "code",
   "execution_count": null,
   "metadata": {},
   "outputs": [],
   "source": [
    "# 10) \n",
    "\n",
    "# Use the concepts you learned in class to construct a poem. Please make sure you write your own poem. There are no guidelines to writing this poem but if you want, feel free to following traditional poem formats like ballads, sonnets, haikus or more.  \n",
    "\n",
    "# See below for example. I expect yours to have a bit more elegant. \n",
    "\n",
    "# Credit Poem: \"Still I Rise\" by Maya Angelou \n",
    "\n",
    "# Reference: https://www.popwebdesign.net/popart_blog/en/2018/01/code-poetry-poems-written-in-programming-languages/ \n"
   ]
  },
  {
   "cell_type": "code",
   "execution_count": 30,
   "metadata": {},
   "outputs": [
    {
     "name": "stdout",
     "output_type": "stream",
     "text": [
      "Here We Are\n",
      "\n",
      "\n",
      "BY VASILIKI HADZIKOSTA\n",
      "\n",
      "\n",
      "I Guess This Is It,\n",
      "My Own Beautiful Haiku\n",
      "in code and in print.\n"
     ]
    }
   ],
   "source": [
    "name = \"Vasiliki Hadzikosta\"\n",
    "a = \"here we are\"\n",
    "b = f\"by {name}\"\n",
    "line1 = 'I guess this is it,'\n",
    "line2= 'My own beautiful Haiku'\n",
    "line3=\"in code and in print.\"\n",
    "\n",
    "print(a.title())\n",
    "print('\\n')\n",
    "print(b.upper())\n",
    "print('\\n')\n",
    "print(line1.title())\n",
    "print(line2.title())\n",
    "print(line3.lower())\n"
   ]
  },
  {
   "cell_type": "code",
   "execution_count": null,
   "metadata": {},
   "outputs": [],
   "source": []
  },
  {
   "cell_type": "code",
   "execution_count": null,
   "metadata": {},
   "outputs": [],
   "source": []
  }
 ],
 "metadata": {
  "kernelspec": {
   "display_name": "Python 3 (ipykernel)",
   "language": "python",
   "name": "python3"
  },
  "language_info": {
   "codemirror_mode": {
    "name": "ipython",
    "version": 3
   },
   "file_extension": ".py",
   "mimetype": "text/x-python",
   "name": "python",
   "nbconvert_exporter": "python",
   "pygments_lexer": "ipython3",
   "version": "3.9.12"
  }
 },
 "nbformat": 4,
 "nbformat_minor": 2
}
